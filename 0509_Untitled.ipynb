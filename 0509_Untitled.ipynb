{
  "nbformat": 4,
  "nbformat_minor": 0,
  "metadata": {
    "colab": {
      "name": "0509.Untitled",
      "provenance": [],
      "authorship_tag": "ABX9TyNMQ2TT4ncNUGPbsrWOsPI4",
      "include_colab_link": true
    },
    "kernelspec": {
      "name": "python3",
      "display_name": "Python 3"
    },
    "language_info": {
      "name": "python"
    }
  },
  "cells": [
    {
      "cell_type": "markdown",
      "metadata": {
        "id": "view-in-github",
        "colab_type": "text"
      },
      "source": [
        "<a href=\"https://colab.research.google.com/github/juuu0811/Introduction-to-Computers/blob/main/0509_Untitled.ipynb\" target=\"_parent\"><img src=\"https://colab.research.google.com/assets/colab-badge.svg\" alt=\"Open In Colab\"/></a>"
      ]
    },
    {
      "cell_type": "code",
      "execution_count": 13,
      "metadata": {
        "colab": {
          "base_uri": "https://localhost:8080/"
        },
        "id": "gtvqsjol71K8",
        "outputId": "a4a77fda-c018-4932-c3d1-565638aeeb5e"
      },
      "outputs": [
        {
          "output_type": "stream",
          "name": "stdout",
          "text": [
            "請輸入你的體溫37.5\n",
            "體溫過高!\n"
          ]
        }
      ],
      "source": [
        "temp = float(input('請輸入你的體溫'))\n",
        "if (temp >= 37.5):\n",
        "    print('體溫過高!')\n",
        "elif (temp >= 37 and temp <= 37.4):\n",
        "    print('體溫略高!')\n",
        "elif (temp >= 34 and temp <= 36.9):\n",
        "    print('體溫正常!')\n",
        "else:\n",
        "    print('體溫異常,請重新測量!')\n"
      ]
    },
    {
      "cell_type": "code",
      "source": [
        "s = int(input('請輸入你的體溫'))\n",
        "if (s >= 90):\n",
        "    print('A')\n",
        "elif (s >= 80 and s <= 89):\n",
        "    print('B')\n",
        "elif (s >= 70 and s <= 79):\n",
        "    print('C')\n",
        "elif (s >= 60 and s <= 69):\n",
        "    print('D')    \n",
        "else:\n",
        "    print('E')"
      ],
      "metadata": {
        "colab": {
          "base_uri": "https://localhost:8080/"
        },
        "id": "gxb75It9_lE5",
        "outputId": "217a3ab9-d70d-46e5-e455-884919f51f69"
      },
      "execution_count": 11,
      "outputs": [
        {
          "output_type": "stream",
          "name": "stdout",
          "text": [
            "請輸入你的體溫59\n",
            "E\n"
          ]
        }
      ]
    },
    {
      "cell_type": "code",
      "source": [
        "m = int(input('請輸入購物金額'))\n",
        "if (m >= 10000):\n",
        "  if(m >= 100000):\n",
        "    print('八折', m *0.8, end = '元\\n') \n",
        "  elif(m >= 50000):\n",
        "    print('八五折', m *0.85, end = '元\\n')   \n",
        "  elif(m >= 30000):\n",
        "    print('九折', m *0.9, end = '元\\n') \n",
        "  elif(m >= 10000):\n",
        "    print('九五折', m *0.95, end = '元\\n')     \n",
        "else:\n",
        "    print('沒打折', m, end = '元\\n')"
      ],
      "metadata": {
        "colab": {
          "base_uri": "https://localhost:8080/"
        },
        "id": "6XpJR_jmEoXS",
        "outputId": "92c8ad63-82c7-40ea-dee5-65e59820e5cc"
      },
      "execution_count": 16,
      "outputs": [
        {
          "output_type": "stream",
          "name": "stdout",
          "text": [
            "請輸入購物金額30000\n",
            "九折 27000.0元\n"
          ]
        }
      ]
    },
    {
      "cell_type": "code",
      "source": [
        "m = int(input('請輸入月份'))\n",
        "if (m >= 3 and m <= 5):\n",
        "    print(m,'月是春天!')\n",
        "elif (m >= 6 and m <= 8):\n",
        "    print(m,'月是夏天!')\n",
        "elif (m >= 9 and m <= 11):\n",
        "    print(m,'月是秋天!')\n",
        "elif (m == 12 or m == 1 or m == 2):\n",
        "    print(m,'月是冬天!')\n",
        "else:\n",
        "    print('月份不在範圍內!')                "
      ],
      "metadata": {
        "colab": {
          "base_uri": "https://localhost:8080/"
        },
        "id": "dZENZ5RlHaAi",
        "outputId": "0d266d0f-24af-4273-87bf-603fbcad05fc"
      },
      "execution_count": 25,
      "outputs": [
        {
          "output_type": "stream",
          "name": "stdout",
          "text": [
            "請輸入月份4\n",
            "4 月是春天!\n"
          ]
        }
      ]
    },
    {
      "cell_type": "code",
      "source": [
        "money = int(input('請輸入今年收入淨額'))\n",
        "if (money >= 2000000):\n",
        "    print('付稅金額:', money *0.3, end = '元\\n')  \n",
        "elif (money >= 1000000):\n",
        "    print('付稅金額:', money *0.21, end = '元\\n')\n",
        "elif (money >= 600000):\n",
        "    print('付稅金額:', money *0.13, end = '元\\n')       \n",
        "elif (money >= 300000):\n",
        "    print('付稅金額:', money *0.06, end = '元\\n')  \n",
        "else:\n",
        "    print('付稅金額:', money *0, end = '元\\n')       "
      ],
      "metadata": {
        "colab": {
          "base_uri": "https://localhost:8080/"
        },
        "id": "hNBQT0Z5Jiyu",
        "outputId": "1c9c2ad1-54b2-4843-844e-3fadd88d70b7"
      },
      "execution_count": 28,
      "outputs": [
        {
          "output_type": "stream",
          "name": "stdout",
          "text": [
            "請輸入今年收入淨額2000000\n",
            "付稅金額: 600000.0元\n"
          ]
        }
      ]
    }
  ]
}
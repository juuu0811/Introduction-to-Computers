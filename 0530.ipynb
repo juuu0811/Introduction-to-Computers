{
  "nbformat": 4,
  "nbformat_minor": 0,
  "metadata": {
    "colab": {
      "name": "0530.ipynb",
      "provenance": [],
      "authorship_tag": "ABX9TyO1WR3SYLMaE5yYHvgaydI4",
      "include_colab_link": true
    },
    "kernelspec": {
      "name": "python3",
      "display_name": "Python 3"
    },
    "language_info": {
      "name": "python"
    }
  },
  "cells": [
    {
      "cell_type": "markdown",
      "metadata": {
        "id": "view-in-github",
        "colab_type": "text"
      },
      "source": [
        "<a href=\"https://colab.research.google.com/github/juuu0811/Introduction-to-Computers/blob/main/0530.ipynb\" target=\"_parent\"><img src=\"https://colab.research.google.com/assets/colab-badge.svg\" alt=\"Open In Colab\"/></a>"
      ]
    },
    {
      "cell_type": "code",
      "execution_count": 7,
      "metadata": {
        "colab": {
          "base_uri": "https://localhost:8080/"
        },
        "id": "rQ25wtDjBe53",
        "outputId": "4a41351b-d1b3-47ca-e1e7-6a50c1b27c0e"
      },
      "outputs": [
        {
          "output_type": "stream",
          "name": "stdout",
          "text": [
            "2*1= 2    2*2= 4    2*3= 6    2*4= 8    2*5=10    2*6=12    2*7=14    2*8=16    2*9=18    \n",
            "3*1= 3    3*2= 6    3*3= 9    3*4=12    3*5=15    3*6=18    3*7=21    3*8=24    3*9=27    \n",
            "4*1= 4    4*2= 8    4*3=12    4*4=16    4*5=20    4*6=24    4*7=28    4*8=32    4*9=36    \n",
            "5*1= 5    5*2=10    5*3=15    5*4=20    5*5=25    5*6=30    5*7=35    5*8=40    5*9=45    \n",
            "6*1= 6    6*2=12    6*3=18    6*4=24    6*5=30    6*6=36    6*7=42    6*8=48    6*9=54    \n",
            "7*1= 7    7*2=14    7*3=21    7*4=28    7*5=35    7*6=42    7*7=49    7*8=56    7*9=63    \n",
            "8*1= 8    8*2=16    8*3=24    8*4=32    8*5=40    8*6=48    8*7=56    8*8=64    8*9=72    \n",
            "9*1= 9    9*2=18    9*3=27    9*4=36    9*5=45    9*6=54    9*7=63    9*8=72    9*9=81    \n"
          ]
        }
      ],
      "source": [
        "for i in range(2,10):\n",
        "    for j in range(1,10):\n",
        "        product = i*j\n",
        "        print('%d*%d=%2d   '%(i, j, product), end=' ')\n",
        "    print()    "
      ]
    },
    {
      "cell_type": "code",
      "source": [
        "a = int(input('請輸入a的值'))\n",
        "b = int(input('請輸入b的值'))\n",
        "\n",
        "maxno = a * b\n",
        "for i in range(1, maxno+1):\n",
        "    if(i % a == 0 and i % b == 0):\n",
        "        break\n",
        "print('%d和 %d的最小公倍數 = %d' %(a, b, i))        "
      ],
      "metadata": {
        "colab": {
          "base_uri": "https://localhost:8080/"
        },
        "id": "i9MGH6IyDQca",
        "outputId": "4a3bcf2e-e99f-4344-e453-23bc45db85e7"
      },
      "execution_count": 5,
      "outputs": [
        {
          "output_type": "stream",
          "name": "stdout",
          "text": [
            "請輸入a的值4\n",
            "請輸入b的值5\n",
            "4和 5的最小公倍數 = 20\n"
          ]
        }
      ]
    },
    {
      "cell_type": "code",
      "source": [
        "n = int(input('請輸入正整數'))\n",
        "for i in range(1, n+1):\n",
        "    if i % 5 == 0:\n",
        "        continue\n",
        "    print(i, end=' ')    "
      ],
      "metadata": {
        "colab": {
          "base_uri": "https://localhost:8080/"
        },
        "id": "3Bpz5_6cGIWw",
        "outputId": "7277ce6f-9bdd-4031-b4b3-58bd5ec2bada"
      },
      "execution_count": 6,
      "outputs": [
        {
          "output_type": "stream",
          "name": "stdout",
          "text": [
            "請輸入正整數21\n",
            "1 2 3 4 6 7 8 9 11 12 13 14 16 17 18 19 21 "
          ]
        }
      ]
    },
    {
      "cell_type": "code",
      "source": [
        "total = n = 0\n",
        "while(n<=10):\n",
        "    total += n\n",
        "    n += 1\n",
        "print(total)"
      ],
      "metadata": {
        "colab": {
          "base_uri": "https://localhost:8080/"
        },
        "id": "v4gAFUlTHPAP",
        "outputId": "80da21c4-dd38-460c-ee82-ca0964c7959e"
      },
      "execution_count": 8,
      "outputs": [
        {
          "output_type": "stream",
          "name": "stdout",
          "text": [
            "55\n"
          ]
        }
      ]
    },
    {
      "cell_type": "code",
      "source": [
        "total = n = 0\n",
        "while n<=10:\n",
        "    total += n\n",
        "    n += 1\n",
        "print(total)"
      ],
      "metadata": {
        "colab": {
          "base_uri": "https://localhost:8080/"
        },
        "id": "JgwjJzPjI-cs",
        "outputId": "6b3f862f-91a3-4bea-f78d-d0883439a19d"
      },
      "execution_count": 9,
      "outputs": [
        {
          "output_type": "stream",
          "name": "stdout",
          "text": [
            "55\n"
          ]
        }
      ]
    },
    {
      "cell_type": "code",
      "source": [
        "total = i = 1\n",
        "n = int(input('請輸入正整數n的值'))\n",
        "while i<=n:\n",
        "    total *= i\n",
        "    i += 1\n",
        "print('%d!=%d' % (n, total))    "
      ],
      "metadata": {
        "colab": {
          "base_uri": "https://localhost:8080/"
        },
        "id": "zS9LqXJbJEqI",
        "outputId": "c16b07f6-0bbd-43ca-bb05-28b45559d639"
      },
      "execution_count": 12,
      "outputs": [
        {
          "output_type": "stream",
          "name": "stdout",
          "text": [
            "請輸入正整數n的值5\n",
            "5!=120\n"
          ]
        }
      ]
    },
    {
      "cell_type": "code",
      "source": [
        "total = n = 0\n",
        "while n<=50:\n",
        "    total += n\n",
        "    n += 2\n",
        "print('0~50的偶數和結果是',total)"
      ],
      "metadata": {
        "colab": {
          "base_uri": "https://localhost:8080/"
        },
        "id": "sF92F171MQzE",
        "outputId": "8f1b2d67-39b1-4357-f549-1dc015f7bd19"
      },
      "execution_count": 22,
      "outputs": [
        {
          "output_type": "stream",
          "name": "stdout",
          "text": [
            "0~50的偶數和結果是 650\n"
          ]
        }
      ]
    },
    {
      "cell_type": "code",
      "source": [
        "total = 0\n",
        "n = 1\n",
        "while n<50:\n",
        "    total += n\n",
        "    n += 2\n",
        "print('0~50的奇數和結果是',total)"
      ],
      "metadata": {
        "colab": {
          "base_uri": "https://localhost:8080/"
        },
        "id": "f4Af-kPJPs4f",
        "outputId": "d4253ff1-1734-4551-ad25-747b460de842"
      },
      "execution_count": 29,
      "outputs": [
        {
          "output_type": "stream",
          "name": "stdout",
          "text": [
            "0~50的奇數和結果是 625\n"
          ]
        }
      ]
    },
    {
      "cell_type": "code",
      "source": [
        "n = int(input('請輸入正整數'))\n",
        "for i in range(n, 0, -1):\n",
        "    print('*'*i) "
      ],
      "metadata": {
        "colab": {
          "base_uri": "https://localhost:8080/"
        },
        "id": "QhN1GsIgQeg9",
        "outputId": "48b91404-3ed7-4d1b-a151-ba5e4ccc5e81"
      },
      "execution_count": 61,
      "outputs": [
        {
          "output_type": "stream",
          "name": "stdout",
          "text": [
            "請輸入正整數7\n",
            "*******\n",
            "******\n",
            "*****\n",
            "****\n",
            "***\n",
            "**\n",
            "*\n"
          ]
        }
      ]
    },
    {
      "cell_type": "code",
      "source": [
        "sum = 0\n",
        "for n in range(1, 101):\n",
        "    if(n % 3 == 0 or n %7 == 0):\n",
        "        sum = sum + n\n",
        "print('數值1~100中,所有是3或7倍數的數之總和 =', sum)        "
      ],
      "metadata": {
        "colab": {
          "base_uri": "https://localhost:8080/"
        },
        "id": "8eArNSjURqzm",
        "outputId": "aa505da0-3997-4dc5-8ced-b095dc69620c"
      },
      "execution_count": 31,
      "outputs": [
        {
          "output_type": "stream",
          "name": "stdout",
          "text": [
            "數值1~100中,所有是3或7倍數的數之總和 = 2208\n"
          ]
        }
      ]
    },
    {
      "cell_type": "code",
      "source": [
        "n = int(input('請輸入正整數'))\n",
        "for i in range(1, n+1):\n",
        "    if(n%i == 0):\n",
        "\n",
        "        print(n,'的因數有',i, sep=' ')\n",
        "if(n%i == 0):\n",
        "    print(n,'不是質數')\n",
        "else:\n",
        "    print(n,'是質數')     "
      ],
      "metadata": {
        "colab": {
          "base_uri": "https://localhost:8080/"
        },
        "id": "LwDUS8QiTMuI",
        "outputId": "5dfbb5e5-e6f8-4d25-e3a0-a85e11fa1078"
      },
      "execution_count": 89,
      "outputs": [
        {
          "output_type": "stream",
          "name": "stdout",
          "text": [
            "請輸入正整數12\n",
            "12 的因數有 1\n",
            "12 的因數有 2\n",
            "12 的因數有 3\n",
            "12 的因數有 4\n",
            "12 的因數有 6\n",
            "12 的因數有 12\n",
            "12 不是質數\n"
          ]
        }
      ]
    }
  ]
}
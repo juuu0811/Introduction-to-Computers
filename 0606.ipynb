{
  "nbformat": 4,
  "nbformat_minor": 0,
  "metadata": {
    "colab": {
      "name": "0606.ipynb",
      "provenance": [],
      "authorship_tag": "ABX9TyMF8+1RlH75RMqkkkBrXCao",
      "include_colab_link": true
    },
    "kernelspec": {
      "name": "python3",
      "display_name": "Python 3"
    },
    "language_info": {
      "name": "python"
    }
  },
  "cells": [
    {
      "cell_type": "markdown",
      "metadata": {
        "id": "view-in-github",
        "colab_type": "text"
      },
      "source": [
        "<a href=\"https://colab.research.google.com/github/juuu0811/Introduction-to-Computers/blob/main/0606.ipynb\" target=\"_parent\"><img src=\"https://colab.research.google.com/assets/colab-badge.svg\" alt=\"Open In Colab\"/></a>"
      ]
    },
    {
      "cell_type": "code",
      "execution_count": 5,
      "metadata": {
        "colab": {
          "base_uri": "https://localhost:8080/"
        },
        "id": "pN4_A3WvD-DJ",
        "outputId": "a9a9c0de-9746-40ae-999b-ea4537bd4914"
      },
      "outputs": [
        {
          "output_type": "stream",
          "name": "stdout",
          "text": [
            "0~50的奇數數和結果是625\n"
          ]
        }
      ],
      "source": [
        "i = 0\n",
        "result = 0\n",
        "while i <= 50:\n",
        "     if i % 2 != 0:\n",
        "        result += i\n",
        "     i+=1\n",
        "print('0~50的奇數數和結果是%d'%result)       "
      ]
    },
    {
      "cell_type": "code",
      "source": [
        "i = 0\n",
        "result = 0\n",
        "while i <= 50:\n",
        "     if i % 2 == 0:\n",
        "        result += i\n",
        "     i+=1\n",
        "print('0~50的偶數數和結果是%d'%result)       "
      ],
      "metadata": {
        "colab": {
          "base_uri": "https://localhost:8080/"
        },
        "id": "jgF1IX6CGvwr",
        "outputId": "a404b893-10dd-4e43-a6f0-8cff9e759081"
      },
      "execution_count": 6,
      "outputs": [
        {
          "output_type": "stream",
          "name": "stdout",
          "text": [
            "0~50的偶數數和結果是650\n"
          ]
        }
      ]
    },
    {
      "cell_type": "code",
      "source": [
        "n = int(input('請輸入正整數'))\n",
        "for i in range(1,n+1):\n",
        "    for j in range(i,n+1):\n",
        "        print('*',end='')\n",
        "    print()    "
      ],
      "metadata": {
        "colab": {
          "base_uri": "https://localhost:8080/"
        },
        "id": "x3jVrhokG4kX",
        "outputId": "d5edd874-b49a-425c-ef4a-7dea60df6afc"
      },
      "execution_count": 7,
      "outputs": [
        {
          "output_type": "stream",
          "name": "stdout",
          "text": [
            "請輸入正整數7\n",
            "*******\n",
            "******\n",
            "*****\n",
            "****\n",
            "***\n",
            "**\n",
            "*\n"
          ]
        }
      ]
    },
    {
      "cell_type": "code",
      "source": [
        "sum = 0\n",
        "for i in range(0, 101):\n",
        "    if (i%3==0 or i%7==0):\n",
        "        sum += i\n",
        "print('數值 1~100 中,所有是3或7倍數的數之總和=',sum)        "
      ],
      "metadata": {
        "colab": {
          "base_uri": "https://localhost:8080/"
        },
        "id": "OyrTFAWIH6Z9",
        "outputId": "401cfd0f-5ea6-40dc-93dd-09b97fcd15fa"
      },
      "execution_count": 8,
      "outputs": [
        {
          "output_type": "stream",
          "name": "stdout",
          "text": [
            "數值 1~100 中,所有是3或7倍數的數之總和= 2208\n"
          ]
        }
      ]
    },
    {
      "cell_type": "code",
      "source": [
        "p=1\n",
        "counter=0\n",
        "n = int(input('請輸入正整數'))\n",
        "print(n,'的因數',end=' ')\n",
        "while (p<=n):\n",
        "    if (n%p==0):\n",
        "        print(p,end=' ') \n",
        "        counter+=1\n",
        "    p+=1\n",
        "\n",
        "print()\n",
        "if (counter==2):\n",
        "   print(n,'是質數')\n",
        "else:\n",
        "   print(n,'不是質數')"
      ],
      "metadata": {
        "colab": {
          "base_uri": "https://localhost:8080/"
        },
        "id": "qZnRRq5_Jorc",
        "outputId": "119352f9-73c9-4854-dc34-a30cdc2e1bb7"
      },
      "execution_count": 9,
      "outputs": [
        {
          "output_type": "stream",
          "name": "stdout",
          "text": [
            "請輸入正整數3\n",
            "3 的因數 1 3 \n",
            "3 是質數\n"
          ]
        }
      ]
    },
    {
      "cell_type": "code",
      "source": [
        "list1 = [1, 2, 3, 4, 5]"
      ],
      "metadata": {
        "id": "lKYzdCtFKszH"
      },
      "execution_count": 10,
      "outputs": []
    },
    {
      "cell_type": "code",
      "source": [
        "list1"
      ],
      "metadata": {
        "colab": {
          "base_uri": "https://localhost:8080/"
        },
        "id": "aNyhHsbkLza1",
        "outputId": "ec959593-f36a-45fd-e98e-3d96f03cf4da"
      },
      "execution_count": 11,
      "outputs": [
        {
          "output_type": "execute_result",
          "data": {
            "text/plain": [
              "[1, 2, 3, 4, 5]"
            ]
          },
          "metadata": {},
          "execution_count": 11
        }
      ]
    },
    {
      "cell_type": "code",
      "source": [
        "list2 = ['香蕉', '蘋果', '橘子']"
      ],
      "metadata": {
        "id": "KeSJZy7sMJzL"
      },
      "execution_count": 19,
      "outputs": []
    },
    {
      "cell_type": "code",
      "source": [
        "list2"
      ],
      "metadata": {
        "colab": {
          "base_uri": "https://localhost:8080/"
        },
        "id": "PwSv3mV5MTI0",
        "outputId": "d86254b2-566c-4500-8bf0-9cb4acb1f1f7"
      },
      "execution_count": 13,
      "outputs": [
        {
          "output_type": "execute_result",
          "data": {
            "text/plain": [
              "['香蕉', '蘋果', '橘子']"
            ]
          },
          "metadata": {},
          "execution_count": 13
        }
      ]
    },
    {
      "cell_type": "code",
      "source": [
        "list3 = [1,'香蕉',True]"
      ],
      "metadata": {
        "id": "7oVh42iBMU_T"
      },
      "execution_count": 16,
      "outputs": []
    },
    {
      "cell_type": "code",
      "source": [
        "list3"
      ],
      "metadata": {
        "colab": {
          "base_uri": "https://localhost:8080/"
        },
        "id": "D2SGHFnkMeQg",
        "outputId": "142ec184-447d-4acf-d27d-bc065cd71f3c"
      },
      "execution_count": 17,
      "outputs": [
        {
          "output_type": "execute_result",
          "data": {
            "text/plain": [
              "[1, '香蕉', True]"
            ]
          },
          "metadata": {},
          "execution_count": 17
        }
      ]
    },
    {
      "cell_type": "code",
      "source": [
        "print(list1[0])\n",
        "print(list1[1])\n",
        "print(list1[2])\n",
        "print(list1[3])\n",
        "print(list1[4])"
      ],
      "metadata": {
        "colab": {
          "base_uri": "https://localhost:8080/"
        },
        "id": "6AFhRqfXMhuS",
        "outputId": "bdc07e06-787b-4a85-a1bd-805ce8e90b02"
      },
      "execution_count": 18,
      "outputs": [
        {
          "output_type": "stream",
          "name": "stdout",
          "text": [
            "1\n",
            "2\n",
            "3\n",
            "4\n",
            "5\n"
          ]
        }
      ]
    },
    {
      "cell_type": "code",
      "source": [
        "list4 = ['香蕉', '蘋果', '橘子']"
      ],
      "metadata": {
        "id": "qc31CPptNlIS"
      },
      "execution_count": 20,
      "outputs": []
    },
    {
      "cell_type": "code",
      "source": [
        "print(list4[1])"
      ],
      "metadata": {
        "colab": {
          "base_uri": "https://localhost:8080/"
        },
        "id": "Ardr22xgN6bh",
        "outputId": "a517f3ff-5a65-40b8-97f1-98c559f0db1b"
      },
      "execution_count": 24,
      "outputs": [
        {
          "output_type": "stream",
          "name": "stdout",
          "text": [
            "蘋果\n"
          ]
        }
      ]
    },
    {
      "cell_type": "code",
      "source": [
        "print(list4[0])\n",
        "print(list4[1])\n",
        "print(list4[2])"
      ],
      "metadata": {
        "colab": {
          "base_uri": "https://localhost:8080/"
        },
        "id": "orryE6L6N6kU",
        "outputId": "b423ed33-6c0f-4dc8-f220-80b4f1e9a9bc"
      },
      "execution_count": 25,
      "outputs": [
        {
          "output_type": "stream",
          "name": "stdout",
          "text": [
            "香蕉\n",
            "蘋果\n",
            "橘子\n"
          ]
        }
      ]
    },
    {
      "cell_type": "code",
      "source": [
        "print(list4[3])"
      ],
      "metadata": {
        "colab": {
          "base_uri": "https://localhost:8080/",
          "height": 164
        },
        "id": "HUrGImBbOMgu",
        "outputId": "1a30dd53-f662-490c-819e-8566de6215df"
      },
      "execution_count": 26,
      "outputs": [
        {
          "output_type": "error",
          "ename": "IndexError",
          "evalue": "ignored",
          "traceback": [
            "\u001b[0;31m---------------------------------------------------------------------------\u001b[0m",
            "\u001b[0;31mIndexError\u001b[0m                                Traceback (most recent call last)",
            "\u001b[0;32m<ipython-input-26-9576ac69e6be>\u001b[0m in \u001b[0;36m<module>\u001b[0;34m()\u001b[0m\n\u001b[0;32m----> 1\u001b[0;31m \u001b[0mprint\u001b[0m\u001b[0;34m(\u001b[0m\u001b[0mlist4\u001b[0m\u001b[0;34m[\u001b[0m\u001b[0;36m3\u001b[0m\u001b[0;34m]\u001b[0m\u001b[0;34m)\u001b[0m\u001b[0;34m\u001b[0m\u001b[0;34m\u001b[0m\u001b[0m\n\u001b[0m",
            "\u001b[0;31mIndexError\u001b[0m: list index out of range"
          ]
        }
      ]
    },
    {
      "cell_type": "code",
      "source": [
        "print(list4[-1])"
      ],
      "metadata": {
        "colab": {
          "base_uri": "https://localhost:8080/"
        },
        "id": "JPqifEDjObD7",
        "outputId": "920ff128-3a35-4282-8fe2-90a424f1fd1d"
      },
      "execution_count": 27,
      "outputs": [
        {
          "output_type": "stream",
          "name": "stdout",
          "text": [
            "橘子\n"
          ]
        }
      ]
    },
    {
      "cell_type": "code",
      "source": [
        "print(list4[-3])"
      ],
      "metadata": {
        "colab": {
          "base_uri": "https://localhost:8080/"
        },
        "id": "KgjaRw-WOvYp",
        "outputId": "6ce1d623-2c0b-4c3b-922e-67fa6ff9a3ae"
      },
      "execution_count": 28,
      "outputs": [
        {
          "output_type": "stream",
          "name": "stdout",
          "text": [
            "香蕉\n"
          ]
        }
      ]
    },
    {
      "cell_type": "code",
      "source": [
        "print(list[-4])"
      ],
      "metadata": {
        "colab": {
          "base_uri": "https://localhost:8080/",
          "height": 164
        },
        "id": "5Qf62jeJO55F",
        "outputId": "68f8f16a-f9f1-4c55-a385-3dd6dbe24671"
      },
      "execution_count": 29,
      "outputs": [
        {
          "output_type": "error",
          "ename": "IndexError",
          "evalue": "ignored",
          "traceback": [
            "\u001b[0;31m---------------------------------------------------------------------------\u001b[0m",
            "\u001b[0;31mIndexError\u001b[0m                                Traceback (most recent call last)",
            "\u001b[0;32m<ipython-input-29-df52e39eb6b3>\u001b[0m in \u001b[0;36m<module>\u001b[0;34m()\u001b[0m\n\u001b[0;32m----> 1\u001b[0;31m \u001b[0mprint\u001b[0m\u001b[0;34m(\u001b[0m\u001b[0mlist\u001b[0m\u001b[0;34m[\u001b[0m\u001b[0;34m-\u001b[0m\u001b[0;36m4\u001b[0m\u001b[0;34m]\u001b[0m\u001b[0;34m)\u001b[0m\u001b[0;34m\u001b[0m\u001b[0;34m\u001b[0m\u001b[0m\n\u001b[0m",
            "\u001b[0;31mIndexError\u001b[0m: list index out of range"
          ]
        }
      ]
    },
    {
      "cell_type": "code",
      "source": [
        "list5 = [['tom','1234']],['mary','abcd'],['david','5678']"
      ],
      "metadata": {
        "id": "WlD-qaGyO8_A"
      },
      "execution_count": 30,
      "outputs": []
    },
    {
      "cell_type": "code",
      "source": [
        "print(list5[1])"
      ],
      "metadata": {
        "colab": {
          "base_uri": "https://localhost:8080/"
        },
        "id": "TYtQRW4hPopS",
        "outputId": "649cd73d-f234-4e1c-e052-4866db739863"
      },
      "execution_count": 31,
      "outputs": [
        {
          "output_type": "stream",
          "name": "stdout",
          "text": [
            "['mary', 'abcd']\n"
          ]
        }
      ]
    },
    {
      "cell_type": "code",
      "source": [
        "print(list5[0])"
      ],
      "metadata": {
        "colab": {
          "base_uri": "https://localhost:8080/"
        },
        "id": "IEDiY39ZPtMx",
        "outputId": "01e95374-d7e7-420d-bc59-5bc28cd269d6"
      },
      "execution_count": 32,
      "outputs": [
        {
          "output_type": "stream",
          "name": "stdout",
          "text": [
            "[['tom', '1234']]\n"
          ]
        }
      ]
    },
    {
      "cell_type": "code",
      "source": [
        "print(list5[1][1])"
      ],
      "metadata": {
        "colab": {
          "base_uri": "https://localhost:8080/"
        },
        "id": "aiU5KZBEPtUC",
        "outputId": "0175a1e8-ec74-4ccd-ca84-e4cf6caafa11"
      },
      "execution_count": 33,
      "outputs": [
        {
          "output_type": "stream",
          "name": "stdout",
          "text": [
            "abcd\n"
          ]
        }
      ]
    },
    {
      "cell_type": "code",
      "source": [
        "print(list5[0][0])"
      ],
      "metadata": {
        "colab": {
          "base_uri": "https://localhost:8080/"
        },
        "id": "JQvU7EEcQBmL",
        "outputId": "b80f39ee-1b90-4bd6-e005-1bb79decec19"
      },
      "execution_count": 35,
      "outputs": [
        {
          "output_type": "stream",
          "name": "stdout",
          "text": [
            "['tom', '1234']\n"
          ]
        }
      ]
    },
    {
      "cell_type": "code",
      "source": [
        "print(list5[1][0])"
      ],
      "metadata": {
        "colab": {
          "base_uri": "https://localhost:8080/"
        },
        "id": "x3z7nwXQQNKt",
        "outputId": "22c943a1-838d-4496-97f1-0655afe3fe61"
      },
      "execution_count": 36,
      "outputs": [
        {
          "output_type": "stream",
          "name": "stdout",
          "text": [
            "mary\n"
          ]
        }
      ]
    },
    {
      "cell_type": "code",
      "source": [
        "list6 = [85, 79, 93]"
      ],
      "metadata": {
        "id": "clVoY21vQx6b"
      },
      "execution_count": 40,
      "outputs": []
    },
    {
      "cell_type": "code",
      "source": [
        "print('國文成績:%d分' % list6[0]) \n",
        "print('數學成績:%d分' % list6[1])\n",
        "print('英文成績:%d分' % list6[2])"
      ],
      "metadata": {
        "colab": {
          "base_uri": "https://localhost:8080/"
        },
        "id": "_LWb6vRoSj4g",
        "outputId": "6aefc070-f9ea-4af3-e90d-2f15cd372458"
      },
      "execution_count": 42,
      "outputs": [
        {
          "output_type": "stream",
          "name": "stdout",
          "text": [
            "國文成績:85分\n",
            "數學成績:79分\n",
            "英文成績:93分\n"
          ]
        }
      ]
    },
    {
      "cell_type": "code",
      "source": [
        "list7 = [1, 2, 3, 4, 5]"
      ],
      "metadata": {
        "id": "9PD-RhssTULZ"
      },
      "execution_count": 43,
      "outputs": []
    },
    {
      "cell_type": "code",
      "source": [
        "print(list7[0])"
      ],
      "metadata": {
        "colab": {
          "base_uri": "https://localhost:8080/"
        },
        "id": "U28OoEDRTYY-",
        "outputId": "b4629a50-21dd-4322-d781-3d6f8d2ca41a"
      },
      "execution_count": 44,
      "outputs": [
        {
          "output_type": "stream",
          "name": "stdout",
          "text": [
            "1\n"
          ]
        }
      ]
    },
    {
      "cell_type": "code",
      "source": [
        "list7[0] = 9"
      ],
      "metadata": {
        "id": "5XsTtqo7TcEZ"
      },
      "execution_count": 45,
      "outputs": []
    },
    {
      "cell_type": "code",
      "source": [
        "print(list7[0])"
      ],
      "metadata": {
        "colab": {
          "base_uri": "https://localhost:8080/"
        },
        "id": "oVC-dZlkThSW",
        "outputId": "95c062c2-d891-40c3-9413-9c434e78042b"
      },
      "execution_count": 46,
      "outputs": [
        {
          "output_type": "stream",
          "name": "stdout",
          "text": [
            "9\n"
          ]
        }
      ]
    },
    {
      "cell_type": "code",
      "source": [
        "print(list7)"
      ],
      "metadata": {
        "colab": {
          "base_uri": "https://localhost:8080/"
        },
        "id": "54zyubVITj5v",
        "outputId": "41f8e7a7-7dac-4879-9230-a420ff05a575"
      },
      "execution_count": 47,
      "outputs": [
        {
          "output_type": "stream",
          "name": "stdout",
          "text": [
            "[9, 2, 3, 4, 5]\n"
          ]
        }
      ]
    },
    {
      "cell_type": "code",
      "source": [
        "list8 = ['香蕉', '蘋果', '橘子']"
      ],
      "metadata": {
        "id": "9TZB5iLdTmkG"
      },
      "execution_count": 48,
      "outputs": []
    },
    {
      "cell_type": "code",
      "source": [
        "for s in list8:\n",
        "    print(s, end=',')  "
      ],
      "metadata": {
        "colab": {
          "base_uri": "https://localhost:8080/"
        },
        "id": "YZpEsDEPUNL8",
        "outputId": "67b7be03-53fa-44b9-9114-03dcf778f81c"
      },
      "execution_count": 49,
      "outputs": [
        {
          "output_type": "stream",
          "name": "stdout",
          "text": [
            "香蕉,蘋果,橘子,"
          ]
        }
      ]
    },
    {
      "cell_type": "code",
      "source": [
        "items = [123,'apple',True]\n",
        "for item in items:\n",
        "    print(item)"
      ],
      "metadata": {
        "colab": {
          "base_uri": "https://localhost:8080/"
        },
        "id": "4u2xXbl4UXq_",
        "outputId": "4e2ef477-7eb8-42a7-dbe8-b60ea35275ea"
      },
      "execution_count": 50,
      "outputs": [
        {
          "output_type": "stream",
          "name": "stdout",
          "text": [
            "123\n",
            "apple\n",
            "True\n"
          ]
        }
      ]
    },
    {
      "cell_type": "code",
      "source": [
        "scores = [85,79,93]\n",
        "for i in range(len(scores)):\n",
        "    print(scores[i])  "
      ],
      "metadata": {
        "colab": {
          "base_uri": "https://localhost:8080/"
        },
        "id": "xlyJ-V9mWg-u",
        "outputId": "f6ae2ab7-1491-4e4b-d55f-b65a6e366b51"
      },
      "execution_count": 51,
      "outputs": [
        {
          "output_type": "stream",
          "name": "stdout",
          "text": [
            "85\n",
            "79\n",
            "93\n"
          ]
        }
      ]
    },
    {
      "cell_type": "code",
      "source": [
        "subjects = ['國文','數學','英文']\n",
        "scores = [85,79,93]\n",
        "for i in range(len(scores)):    \n",
        "    print('%s成績:%d分' % (subjects[i],scores[i]))"
      ],
      "metadata": {
        "colab": {
          "base_uri": "https://localhost:8080/"
        },
        "id": "agdvZS8IW0Ki",
        "outputId": "f98934f3-2f86-4771-964f-cfc89472ddd0"
      },
      "execution_count": 94,
      "outputs": [
        {
          "output_type": "stream",
          "name": "stdout",
          "text": [
            "國文成績:85分\n",
            "數學成績:79分\n",
            "英文成績:93分\n"
          ]
        }
      ]
    },
    {
      "cell_type": "code",
      "source": [
        "number = [1,2,3]\n",
        "name = ['Tom','Mary','Tony']\n",
        "for i in range(len(number)):\n",
        "    print('編號:%d 姓名:%s' % (number[i],name[i]))"
      ],
      "metadata": {
        "colab": {
          "base_uri": "https://localhost:8080/"
        },
        "id": "lnffFWgQfREM",
        "outputId": "9705a6f4-e9e4-4070-cc20-9bbf674b065b"
      },
      "execution_count": 97,
      "outputs": [
        {
          "output_type": "stream",
          "name": "stdout",
          "text": [
            "編號:1 姓名:Tom\n",
            "編號:2 姓名:Mary\n",
            "編號:3 姓名:Tony\n"
          ]
        }
      ]
    }
  ]
}